{
 "cells": [
  {
   "cell_type": "code",
   "execution_count": 17,
   "id": "initial_id",
   "metadata": {},
   "outputs": [],
   "source": [
    "from pyspark.sql import SparkSession\n",
    "from pyspark.sql.functions import col, to_date, year, month, monotonically_increasing_id\n",
    "\n",
    "spark = SparkSession.builder \\\n",
    "    .appName(\"ETL to Star Schema\") \\\n",
    "    .config(\"spark.jars\", \"postgresql-42.6.0.jar\") \\\n",
    "    .getOrCreate()\n",
    "\n",
    "pg_url = \"jdbc:postgresql://bigdata_postgres_db:5432/lab2\"\n",
    "pg_props = {\n",
    "    \"user\": \"debug\",\n",
    "    \"password\": \"pswd\",\n",
    "    \"driver\": \"org.postgresql.Driver\"\n",
    "}\n"
   ]
  },
  {
   "cell_type": "code",
   "execution_count": 18,
   "id": "f965d639-3c81-4264-b06f-21e09a3f0ceb",
   "metadata": {},
   "outputs": [
    {
     "name": "stdout",
     "output_type": "stream",
     "text": [
      "root\n",
      " |-- id: integer (nullable = true)\n",
      " |-- customer_first_name: string (nullable = true)\n",
      " |-- customer_last_name: string (nullable = true)\n",
      " |-- customer_age: integer (nullable = true)\n",
      " |-- customer_email: string (nullable = true)\n",
      " |-- customer_country: string (nullable = true)\n",
      " |-- customer_postal_code: string (nullable = true)\n",
      " |-- customer_pet_type: string (nullable = true)\n",
      " |-- customer_pet_name: string (nullable = true)\n",
      " |-- customer_pet_breed: string (nullable = true)\n",
      " |-- seller_first_name: string (nullable = true)\n",
      " |-- seller_last_name: string (nullable = true)\n",
      " |-- seller_email: string (nullable = true)\n",
      " |-- seller_country: string (nullable = true)\n",
      " |-- seller_postal_code: string (nullable = true)\n",
      " |-- product_name: string (nullable = true)\n",
      " |-- product_category: string (nullable = true)\n",
      " |-- product_price: decimal(10,2) (nullable = true)\n",
      " |-- product_quantity: integer (nullable = true)\n",
      " |-- sale_date: timestamp (nullable = true)\n",
      " |-- sale_customer_id: integer (nullable = true)\n",
      " |-- sale_seller_id: integer (nullable = true)\n",
      " |-- sale_product_id: integer (nullable = true)\n",
      " |-- sale_quantity: integer (nullable = true)\n",
      " |-- sale_total_price: decimal(10,2) (nullable = true)\n",
      " |-- store_name: string (nullable = true)\n",
      " |-- store_location: string (nullable = true)\n",
      " |-- store_city: string (nullable = true)\n",
      " |-- store_state: string (nullable = true)\n",
      " |-- store_country: string (nullable = true)\n",
      " |-- store_phone: string (nullable = true)\n",
      " |-- store_email: string (nullable = true)\n",
      " |-- pet_category: string (nullable = true)\n",
      " |-- product_weight: decimal(10,2) (nullable = true)\n",
      " |-- product_color: string (nullable = true)\n",
      " |-- product_size: string (nullable = true)\n",
      " |-- product_brand: string (nullable = true)\n",
      " |-- product_material: string (nullable = true)\n",
      " |-- product_description: string (nullable = true)\n",
      " |-- product_rating: decimal(10,3) (nullable = true)\n",
      " |-- product_reviews: integer (nullable = true)\n",
      " |-- product_release_date: timestamp (nullable = true)\n",
      " |-- product_expiry_date: timestamp (nullable = true)\n",
      " |-- supplier_name: string (nullable = true)\n",
      " |-- supplier_contact: string (nullable = true)\n",
      " |-- supplier_email: string (nullable = true)\n",
      " |-- supplier_phone: string (nullable = true)\n",
      " |-- supplier_address: string (nullable = true)\n",
      " |-- supplier_city: string (nullable = true)\n",
      " |-- supplier_country: string (nullable = true)\n",
      "\n",
      "+---+-------------------+------------------+------------+--------------------+----------------+--------------------+-----------------+-----------------+------------------+-----------------+----------------+--------------------+--------------+------------------+------------+----------------+-------------+----------------+-------------------+----------------+--------------+---------------+-------------+----------------+----------+--------------+----------+-----------+-------------+------------+--------------------+------------+--------------+-------------+------------+-------------+----------------+--------------------+--------------+---------------+--------------------+-------------------+-------------+----------------+--------------------+--------------+----------------+-------------+----------------+\n",
      "| id|customer_first_name|customer_last_name|customer_age|      customer_email|customer_country|customer_postal_code|customer_pet_type|customer_pet_name|customer_pet_breed|seller_first_name|seller_last_name|        seller_email|seller_country|seller_postal_code|product_name|product_category|product_price|product_quantity|          sale_date|sale_customer_id|sale_seller_id|sale_product_id|sale_quantity|sale_total_price|store_name|store_location|store_city|store_state|store_country| store_phone|         store_email|pet_category|product_weight|product_color|product_size|product_brand|product_material| product_description|product_rating|product_reviews|product_release_date|product_expiry_date|supplier_name|supplier_contact|      supplier_email|supplier_phone|supplier_address|supplier_city|supplier_country|\n",
      "+---+-------------------+------------------+------------+--------------------+----------------+--------------------+-----------------+-----------------+------------------+-----------------+----------------+--------------------+--------------+------------------+------------+----------------+-------------+----------------+-------------------+----------------+--------------+---------------+-------------+----------------+----------+--------------+----------+-----------+-------------+------------+--------------------+------------+--------------+-------------+------------+-------------+----------------+--------------------+--------------+---------------+--------------------+-------------------+-------------+----------------+--------------------+--------------+----------------+-------------+----------------+\n",
      "|  1|             Barron|           Rawlyns|          61|bmassingham0@army...|           China|                 nan|              cat|        Priscella|Labrador Retriever|            Bevan|      Massingham|bmassingham0@answ...|     Indonesia|               nan|    Dog Food|            Food|        77.97|              89|2021-05-14 00:00:00|               1|             1|              1|            4|          487.70|   Youopia|      Suite 75|   Xichehe|        nan|United States|564-244-8660|bmassingham0@netw...|        Cats|         13.40|       Indigo|      Medium|        Skajo|           Steel|Aliquam quis turp...|         2.100|             97| 2011-10-19 00:00:00|2028-10-21 00:00:00|       Tagcat|Bevan Massingham|bmassingham0@unbl...|  914-877-7062|        Suite 25|       Kletek|           China|\n",
      "+---+-------------------+------------------+------------+--------------------+----------------+--------------------+-----------------+-----------------+------------------+-----------------+----------------+--------------------+--------------+------------------+------------+----------------+-------------+----------------+-------------------+----------------+--------------+---------------+-------------+----------------+----------+--------------+----------+-----------+-------------+------------+--------------------+------------+--------------+-------------+------------+-------------+----------------+--------------------+--------------+---------------+--------------------+-------------------+-------------+----------------+--------------------+--------------+----------------+-------------+----------------+\n",
      "only showing top 1 row\n",
      "\n"
     ]
    }
   ],
   "source": [
    "df = spark.read.jdbc(pg_url, \"mock_data\", properties=pg_props)\n",
    "df.printSchema()\n",
    "df.show(1)"
   ]
  },
  {
   "cell_type": "code",
   "execution_count": 9,
   "id": "fbe6f17e-93da-4586-ad25-eba4290aded1",
   "metadata": {},
   "outputs": [],
   "source": [
    "from pyspark.sql.functions import col\n",
    "\n",
    "customers_df = df.select(\n",
    "    col(\"customer_first_name\").alias(\"first_name\"),\n",
    "    col(\"customer_last_name\").alias(\"last_name\"),\n",
    "    col(\"customer_age\").alias(\"age\"),\n",
    "    col(\"customer_email\").alias(\"email\"),\n",
    "    col(\"customer_country\").alias(\"country\"),\n",
    "    col(\"customer_postal_code\").alias(\"postal_code\"),\n",
    "    col(\"customer_pet_type\").alias(\"pet_type\"), \n",
    "    col(\"customer_pet_name\").alias(\"pet_name\"), \n",
    "    col(\"customer_pet_breed\").alias(\"pet_breed\"), \n",
    "    \"pet_category\"\n",
    ").dropDuplicates()\n",
    "\n",
    "# загружаем в postgres в таблицу d_customers\n",
    "customers_df.write.jdbc(url=pg_url, table=\"d_customers\", mode=\"append\", properties=pg_props)\n"
   ]
  },
  {
   "cell_type": "code",
   "execution_count": 10,
   "id": "67f49632-b94a-428e-95e2-49f1e0aadf55",
   "metadata": {},
   "outputs": [],
   "source": [
    "from pyspark.sql.functions import col\n",
    "\n",
    "products_df = df.select(\n",
    "    col(\"product_name\").alias(\"name\"),\n",
    "    col(\"product_category\").alias(\"category\"),\n",
    "    col(\"product_price\").alias(\"price\"),\n",
    "    col(\"product_quantity\").alias(\"quantity\"),\n",
    "    col(\"product_weight\").alias(\"weight\"),\n",
    "    col(\"product_color\").alias(\"color\"),\n",
    "    col(\"product_size\").alias(\"size\"),\n",
    "    col(\"product_brand\").alias(\"brand\"),\n",
    "    col(\"product_material\").alias(\"material\"),\n",
    "    col(\"product_description\").alias(\"description\"),\n",
    "    col(\"product_rating\").alias(\"rating\"),\n",
    "    col(\"product_reviews\").alias(\"reviews\"),\n",
    "    col(\"product_release_date\").alias(\"release_date\"),\n",
    "    col(\"product_expiry_date\").alias(\"expiry_date\")\n",
    ").dropDuplicates()\n",
    "\n",
    "# загружает в postgres в таблицу d_products\n",
    "products_df.write.jdbc(url=pg_url, table=\"d_products\", mode=\"append\", properties=pg_props)"
   ]
  },
  {
   "cell_type": "code",
   "execution_count": 11,
   "id": "474695bc-5d45-41bb-875a-78d03f849757",
   "metadata": {},
   "outputs": [],
   "source": [
    "from pyspark.sql.functions import col\n",
    "\n",
    "sellers_df = df.select(\n",
    "    col(\"seller_first_name\").alias(\"first_name\"),\n",
    "    col(\"seller_last_name\").alias(\"last_name\"),\n",
    "    col(\"seller_email\").alias(\"email\"),\n",
    "    col(\"seller_country\").alias(\"country\"),\n",
    "    col(\"seller_postal_code\").alias(\"postal_code\")\n",
    ").dropDuplicates()\n",
    "\n",
    "# загружает в postgres в таблицу d_sellers\n",
    "sellers_df.write.jdbc(url=pg_url, table=\"d_sellers\", mode=\"append\", properties=pg_props)"
   ]
  },
  {
   "cell_type": "code",
   "execution_count": 12,
   "id": "ea0b3c9f-a218-460e-82f1-b7824c299d7c",
   "metadata": {},
   "outputs": [],
   "source": [
    "from pyspark.sql.functions import col\n",
    "\n",
    "suppliers_df = df.select(\n",
    "    col(\"supplier_name\").alias(\"name\"),\n",
    "    col(\"supplier_contact\").alias(\"contact\"),\n",
    "    col(\"supplier_email\").alias(\"email\"),\n",
    "    col(\"supplier_phone\").alias(\"phone\"),\n",
    "    col(\"supplier_address\").alias(\"address\"),\n",
    "    col(\"supplier_city\").alias(\"city\"),\n",
    "    col(\"supplier_country\").alias(\"country\")\n",
    ").dropDuplicates()\n",
    "\n",
    "# загружает в postgres в таблицу d_suppliers\n",
    "suppliers_df.write.jdbc(url=pg_url, table=\"d_suppliers\", mode=\"append\", properties=pg_props)"
   ]
  },
  {
   "cell_type": "code",
   "execution_count": 13,
   "id": "853ae569-0cb0-4318-95cd-2fc20765392d",
   "metadata": {},
   "outputs": [],
   "source": [
    "from pyspark.sql.functions import col\n",
    "\n",
    "stores_df = df.select(\n",
    "    col(\"store_name\").alias(\"name\"),\n",
    "    col(\"store_location\").alias(\"location\"),\n",
    "    col(\"store_city\").alias(\"city\"),\n",
    "    col(\"store_state\").alias(\"state\"),\n",
    "    col(\"store_country\").alias(\"country\"),\n",
    "    col(\"store_phone\").alias(\"phone\"),\n",
    "    col(\"store_email\").alias(\"email\")\n",
    ").dropDuplicates()\n",
    "\n",
    "# загружает в postgres в таблицу d_stores\n",
    "stores_df.write.jdbc(url=pg_url, table=\"d_stores\", mode=\"append\", properties=pg_props)"
   ]
  },
  {
   "cell_type": "code",
   "execution_count": 14,
   "id": "51b85f09-17cd-4cc4-9690-4ac7ba7e58e7",
   "metadata": {},
   "outputs": [],
   "source": [
    "from pyspark.sql.functions import col, year, month, dayofmonth, dayofweek\n",
    "\n",
    "times_df = df.select(\n",
    "    col(\"sale_date\").alias(\"date\")\n",
    ").dropDuplicates()\n",
    "\n",
    "times_df = times_df.withColumn(\"year\", year(\"date\")) \\\n",
    "                   .withColumn(\"month\", month(\"date\")) \\\n",
    "                   .withColumn(\"day\", dayofmonth(\"date\")) \\\n",
    "                   .withColumn(\"weekday\", dayofweek(\"date\"))\n",
    "\n",
    "# загружает в postgres в таблицу d_times\n",
    "times_df.write.jdbc(url=pg_url, table=\"d_times\", mode=\"append\", properties=pg_props)"
   ]
  },
  {
   "cell_type": "markdown",
   "id": "cbdefe9e-7e9a-4a02-bef5-e44507fb2498",
   "metadata": {},
   "source": [
    "Теперь свяжем все данные с таблицей фактов."
   ]
  },
  {
   "cell_type": "code",
   "execution_count": 19,
   "id": "16708f39-e932-4987-beeb-40bff0f95f30",
   "metadata": {},
   "outputs": [],
   "source": [
    "# берем данные мз таблиц измерений\n",
    "dim_customers = spark.read.jdbc(url=pg_url, table=\"d_customers\", properties=pg_props)\n",
    "dim_sellers = spark.read.jdbc(url=pg_url, table=\"d_sellers\", properties=pg_props)\n",
    "dim_products = spark.read.jdbc(url=pg_url, table=\"d_products\", properties=pg_props)\n",
    "dim_stores = spark.read.jdbc(url=pg_url, table=\"d_stores\", properties=pg_props)\n",
    "dim_suppliers = spark.read.jdbc(url=pg_url, table=\"d_suppliers\", properties=pg_props)\n",
    "dim_times = spark.read.jdbc(url=pg_url, table=\"d_times\", properties=pg_props)"
   ]
  },
  {
   "cell_type": "markdown",
   "id": "a053a608-080b-4e45-8b15-c7c299b45c70",
   "metadata": {},
   "source": [
    "Теперь соединим данные в соответсвии с исходной таблицей."
   ]
  },
  {
   "cell_type": "code",
   "execution_count": 27,
   "id": "6e3a00b4-4aca-46fd-9970-6dc277cd194e",
   "metadata": {},
   "outputs": [
    {
     "name": "stdout",
     "output_type": "stream",
     "text": [
      "10000\n"
     ]
    }
   ],
   "source": [
    "from pyspark.sql.functions import col, broadcast, monotonically_increasing_id\n",
    "\n",
    "# alias для читаемости\n",
    "raw = df.alias(\"raw\")\n",
    "cust = dim_customers.alias(\"cust\")\n",
    "sell = dim_sellers.alias(\"sell\")\n",
    "prod = dim_products.alias(\"prod\")\n",
    "store = dim_stores.alias(\"store\")\n",
    "sup = dim_suppliers.alias(\"sup\")\n",
    "dt = dim_times.alias(\"dt\")\n",
    "\n",
    "# JOIN всех измерений\n",
    "fact_df = (\n",
    "    raw\n",
    "    .join(cust,\n",
    "          (raw[\"customer_email\"] == cust[\"email\"]),\n",
    "          \"left\")\n",
    "    .join(sell,\n",
    "          (raw[\"seller_email\"] == sell[\"email\"]),\n",
    "          \"left\")\n",
    "    .join(prod,\n",
    "          (raw[\"product_name\"] == prod[\"name\"]) &\n",
    "          (raw[\"product_category\"] == prod[\"category\"]) &\n",
    "          (raw[\"product_price\"] == prod[\"price\"]) &\n",
    "          (raw[\"product_brand\"] == prod[\"brand\"]) &\n",
    "          (raw[\"product_size\"] == prod[\"size\"]) &\n",
    "          (raw[\"product_material\"] == prod[\"material\"]),\n",
    "          \"left\")\n",
    "    .join(store,\n",
    "          (raw[\"store_email\"] == store[\"email\"]),\n",
    "          \"left\")\n",
    "    .join(sup,\n",
    "          (raw[\"supplier_email\"] == sup[\"email\"]),\n",
    "          \"left\")\n",
    "    .join(broadcast(dt), raw[\"sale_date\"] == dt[\"date\"], \"left\")\n",
    "    .select(\n",
    "        col(\"dt.id\").alias(\"date_id\"),\n",
    "        col(\"cust.id\").alias(\"customer_id\"),\n",
    "        col(\"sell.id\").alias(\"seller_id\"),\n",
    "        col(\"prod.id\").alias(\"product_id\"),\n",
    "        col(\"store.id\").alias(\"store_id\"),\n",
    "        col(\"sup.id\").alias(\"supplier_id\"),\n",
    "        col(\"raw.sale_quantity\").cast(\"int\").alias(\"quantity\"),\n",
    "        col(\"raw.sale_total_price\").cast(\"decimal(10,2)\").alias(\"total_price\")\n",
    "    )\n",
    ")\n",
    "print(fact_df.count())"
   ]
  },
  {
   "cell_type": "markdown",
   "id": "e4bdbbe2-c2c6-4596-8cc0-b8db5c104cbb",
   "metadata": {},
   "source": [
    "На этапе join возникли проблемы, так как делал слияния с ошибкой --- не уникальные поля брал, в следствие чего получил ~11000000 записей в `f_sales` и долгую запись."
   ]
  },
  {
   "cell_type": "markdown",
   "id": "ef0f8cb9-a960-4633-9c2d-edb4e084574d",
   "metadata": {},
   "source": [
    "Отбираем только нужные столбцы."
   ]
  },
  {
   "cell_type": "code",
   "execution_count": 28,
   "id": "21c4865e-11c6-4ef9-83cc-8a514e2d4f16",
   "metadata": {},
   "outputs": [],
   "source": [
    "fact_df = fact_df.repartition(4)\n",
    "\n",
    "# Запись с настройками\n",
    "fact_df.write \\\n",
    "    .format(\"jdbc\") \\\n",
    "    .option(\"url\", pg_url) \\\n",
    "    .option(\"dbtable\", \"f_sales\") \\\n",
    "    .option(\"user\", pg_props[\"user\"]) \\\n",
    "    .option(\"password\", pg_props[\"password\"]) \\\n",
    "    .option(\"driver\", \"org.postgresql.Driver\") \\\n",
    "    .option(\"batchsize\", \"500\") \\\n",
    "    .option(\"truncate\", \"true\") \\\n",
    "    .mode(\"overwrite\") \\\n",
    "    .save()\n"
   ]
  },
  {
   "cell_type": "markdown",
   "id": "59e1891b-4b5a-4f69-9c28-a3d055a2fa03",
   "metadata": {},
   "source": [
    "В данном случае нет необходимости использовать батчевую загрузку, 10000 не так много."
   ]
  }
 ],
 "metadata": {
  "kernelspec": {
   "display_name": "Python 3 (ipykernel)",
   "language": "python",
   "name": "python3"
  },
  "language_info": {
   "codemirror_mode": {
    "name": "ipython",
    "version": 3
   },
   "file_extension": ".py",
   "mimetype": "text/x-python",
   "name": "python",
   "nbconvert_exporter": "python",
   "pygments_lexer": "ipython3",
   "version": "3.11.6"
  }
 },
 "nbformat": 4,
 "nbformat_minor": 5
}
